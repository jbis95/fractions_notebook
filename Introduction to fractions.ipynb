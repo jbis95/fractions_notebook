{
 "cells": [
  {
   "cell_type": "code",
   "execution_count": null,
   "metadata": {},
   "outputs": [],
   "source": [
    "import matplotlib.pyplot as plt\n",
    "from IPython.display import Image"
   ]
  },
  {
   "cell_type": "markdown",
   "metadata": {},
   "source": [
    "# Fractions"
   ]
  },
  {
   "cell_type": "markdown",
   "metadata": {},
   "source": [
    "### Introduction\n",
    "\n",
    "In this notebook we will introduce what are fractions and how to apply them to every day life. Before we begin have you ever wondered why we call 25 cents a quarter? Or how many times do you have to cut your favourite pizza so each of your friends can have one slice? Fractions are part of everyday life and knowing how they work is an important skill to develop. We will start off with simple language of fractions such as numerator and denominator, then procede with basic examples that will involve calculations to practice your knowledge."
   ]
  },
  {
   "cell_type": "code",
   "execution_count": null,
   "metadata": {},
   "outputs": [],
   "source": [
    "img = '1271950.jpg'\n",
    "Image(url=img, width=100, height=100)"
   ]
  },
  {
   "cell_type": "code",
   "execution_count": null,
   "metadata": {},
   "outputs": [],
   "source": [
    "sizes = [33.3, 33.3, 33.3]\n",
    "labels = [\"\", \"\", \"\"]\n",
    "\n",
    "fig1, ax1 = plt.subplots()\n",
    "ax1.pie(sizes, explode=(0,0,0), labels=labels, autopct='', shadow=True, startangle=90)\n",
    "ax1.axis('equal')\n",
    "\n",
    "plt.show()"
   ]
  },
  {
   "cell_type": "markdown",
   "metadata": {},
   "source": [
    "### Background and Examples\n",
    "\n",
    "Let's start with an example involving pizza because cutting slices will help us learn fractions. At first when the pizza just came out of the oven we know that it comes in one big piece. Before beginning eating the pizza, we need to cut it into chunks that makes it easier to eat. If you want each of your hungry friends and you to have one slice then we can figure out how many slices that we need to cut. The following exercices will help you practice these types of questions."
   ]
  },
  {
   "cell_type": "markdown",
   "metadata": {},
   "source": [
    "Suppose that you and your 7 friends each want one slice of pizza, how many slices do you need to cut the pizza into?"
   ]
  },
  {
   "cell_type": "code",
   "execution_count": 7,
   "metadata": {},
   "outputs": [
    {
     "name": "stdout",
     "output_type": "stream",
     "text": [
      "Enter answer here: 3\n",
      "Try again. Remaining tries:  2\n",
      "Enter answer here: 2\n",
      "Try again. Remaining tries:  1\n",
      "Enter answer here: 1\n",
      "Sorry you ran out of chances!\n",
      "Correct answer was  8\n"
     ]
    }
   ],
   "source": [
    "ANSWER = 8\n",
    "TRIES = 2\n",
    "userInput = int(input(\"Enter answer here: \"), 10)\n",
    "\n",
    "for x in range(0, TRIES):\n",
    "    if(ANSWER == userInput):\n",
    "        print(\"Correct!\")\n",
    "        break\n",
    "    else:\n",
    "        print(\"Try again. Remaining tries: \", TRIES - x)\n",
    "        userInput = int(input(\"Enter answer here: \"), 10)\n",
    "\n",
    "if(ANSWER != userInput):\n",
    "    print(\"Sorry you ran out of chances!\")\n",
    "    print(\"Correct answer was \", ANSWER)"
   ]
  },
  {
   "cell_type": "markdown",
   "metadata": {},
   "source": [
    "### Questions"
   ]
  },
  {
   "cell_type": "markdown",
   "metadata": {},
   "source": [
    "### Conclusion"
   ]
  }
 ],
 "metadata": {
  "kernelspec": {
   "display_name": "Python 3",
   "language": "python",
   "name": "python3"
  },
  "language_info": {
   "codemirror_mode": {
    "name": "ipython",
    "version": 3
   },
   "file_extension": ".py",
   "mimetype": "text/x-python",
   "name": "python",
   "nbconvert_exporter": "python",
   "pygments_lexer": "ipython3",
   "version": "3.6.5"
  }
 },
 "nbformat": 4,
 "nbformat_minor": 2
}
